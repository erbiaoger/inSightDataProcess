{
 "cells": [
  {
   "cell_type": "code",
   "execution_count": 4,
   "metadata": {},
   "outputs": [],
   "source": [
    "from inSightDataProcess.InSightDownloader import Downloader\n"
   ]
  },
  {
   "cell_type": "code",
   "execution_count": null,
   "metadata": {},
   "outputs": [],
   "source": [
    "downloader = Downloader()\n",
    "downloader.makeCatalog(path_xml='./data/events_mars_extended_multiorigin_v12_2022-07-01.xml', path_Catalog='./data/SeismicCatalog')"
   ]
  },
  {
   "cell_type": "code",
   "execution_count": null,
   "metadata": {},
   "outputs": [],
   "source": [
    "event_qualitys = ['A', 'B', 'C', 'D']\n",
    "event_classs = ['LOW_FREQUENCY', 'BROADBAND', '2.4_HZ', 'HIGH_FREQUENCY', 'VERY_HIGH_FREQUENCY']\n",
    "\n",
    "for event_quality in event_qualitys:\n",
    "    for event_class in event_classs:\n",
    "        download(event_quality, event_class)"
   ]
  }
 ],
 "metadata": {
  "kernelspec": {
   "display_name": "base",
   "language": "python",
   "name": "python3"
  },
  "language_info": {
   "codemirror_mode": {
    "name": "ipython",
    "version": 3
   },
   "file_extension": ".py",
   "mimetype": "text/x-python",
   "name": "python",
   "nbconvert_exporter": "python",
   "pygments_lexer": "ipython3",
   "version": "3.9.13"
  },
  "orig_nbformat": 4
 },
 "nbformat": 4,
 "nbformat_minor": 2
}
