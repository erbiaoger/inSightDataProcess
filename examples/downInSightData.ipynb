{
 "cells": [
  {
   "cell_type": "code",
   "execution_count": 1,
   "metadata": {},
   "outputs": [],
   "source": [
    "from inSightDataProcess.InSightDownloader import Downloader\n",
    "import os"
   ]
  },
  {
   "cell_type": "code",
   "execution_count": null,
   "metadata": {},
   "outputs": [],
   "source": [
    "pwd = os.getcwd()\n",
    "dir_DATA = os.path.join(os.path.dirname(pwd), 'DATA')\n",
    "\n",
    "downloader = Downloader()\n",
    "# downloader.makeCatalog(path_xml='./data/events_mars_extended_multiorigin_v12_2022-07-01.xml', path_Catalog='./data/SeismicCatalog')\n",
    "# downloader.eventDownloader(path_Catalog='./data/SeismicCatalog', event2find='S1237a', save_path=dir_DATA)\n",
    "# downloader.downloadAll(path_Catalog='./data/SeismicCatalog', event_qualitys=['A', 'B', 'C', 'D'], event_classs=['LOW_FREQUENCY', 'BROADBAND', '2.4_HZ', 'HIGH_FREQUENCY', 'VERY_HIGH_FREQUENCY'], save_path=dir_DATA)\n"
   ]
  },
  {
   "cell_type": "code",
   "execution_count": null,
   "metadata": {},
   "outputs": [],
   "source": []
  }
 ],
 "metadata": {
  "kernelspec": {
   "display_name": "base",
   "language": "python",
   "name": "python3"
  },
  "language_info": {
   "codemirror_mode": {
    "name": "ipython",
    "version": 3
   },
   "file_extension": ".py",
   "mimetype": "text/x-python",
   "name": "python",
   "nbconvert_exporter": "python",
   "pygments_lexer": "ipython3",
   "version": "3.9.13"
  },
  "orig_nbformat": 4
 },
 "nbformat": 4,
 "nbformat_minor": 2
}
