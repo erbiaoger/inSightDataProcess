{
 "cells": [
  {
   "cell_type": "code",
   "execution_count": 1,
   "id": "af1ab1d6-24d9-4cf8-a294-db5c5e5ca835",
   "metadata": {
    "tags": []
   },
   "outputs": [],
   "source": [
    "import os\n",
    "\n",
    "import numpy as np\n",
    "import obspy\n",
    "import matplotlib.pyplot as plt\n",
    "from matplotlib import cm\n",
    "from matplotlib.ticker import LinearLocator\n",
    "from scipy import signal, fft\n",
    "import pprint as pp\n",
    "\n",
    "import utils\n",
    "\n",
    "plt.style.use('ggplot')\n",
    "plt.rcParams['figure.figsize'] = 20, 5\n",
    "plt.rcParams['lines.linewidth'] = 0.5"
   ]
  },
  {
   "cell_type": "code",
   "execution_count": 2,
   "id": "f49b57f5-59a0-4629-a009-3260f3e15b80",
   "metadata": {
    "tags": []
   },
   "outputs": [],
   "source": [
    "cwd = os.getcwd()\n",
    "paths = os.path.join(cwd, 'InSight-seismic-data-downloader/', 'DATA')\n",
    "\n",
    "def to_type(paths): \n",
    "    for event_type in os.listdir(paths):\n",
    "        path_type = os.path.join(paths, event_type)\n",
    "        to_quality(path_type, event_type)\n",
    "\n",
    "def to_quality(path_type, event_type):\n",
    "    for event_quality in os.listdir(path_type):\n",
    "        path_quality = os.path.join(path_type, event_quality)\n",
    "        to_solar(path_quality, event_type, event_quality)\n",
    "\n",
    "def to_solar(path_quality, event_type, event_quality):\n",
    "    for solar in os.listdir(path_quality):\n",
    "        path_solar = os.path.join(path_quality, solar)\n",
    "        get_mseed(path_solar, event_type, event_quality, solar)\n",
    "\n",
    "def get_mseed(path_solar, event_type, event_quality, solar):\n",
    "    for mseed in os.listdir(path_solar):\n",
    "        path_mseed = os.path.join(path_solar, mseed)\n",
    "        data = obspy.read(path_mseed)\n",
    "        plot_fig(data, event_type, event_quality, solar, mseed)\n",
    "        \n",
    "def plot_fig(data, event_type, event_quality, solar, mseed):\n",
    "    ENZ = {0: 'E', 1: 'N', 2: 'Z'}\n",
    "    path_fig = './fig/' + event_type + '/' + event_quality + '/' + solar + '/'\n",
    "    os.system('mkdir -p ' + path_fig)\n",
    "    name = mseed.split('.')\n",
    "    for i in range(len(data)):\n",
    "        figname = path_fig + name[0] + ENZ[i] + '.png'\n",
    "        x = np.arange(0, data[i].stats.npts*data[i].stats.delta, data[i].stats.delta)\n",
    "        plt.plot(x, data[i].data)\n",
    "        plt.xlabel('Time [s]')#; plt.title('traceN raw signal')\n",
    "        plt.savefig(figname)\n",
    "        plt.show()\n",
    "    "
   ]
  },
  {
   "cell_type": "code",
   "execution_count": null,
   "id": "aee478a7-6f07-4fe7-968c-10b0d303072b",
   "metadata": {
    "tags": []
   },
   "outputs": [],
   "source": [
    "os.system('rm -rf ./fig/*')\n",
    "to_type(paths)"
   ]
  },
  {
   "cell_type": "code",
   "execution_count": null,
   "id": "462f0666-d887-4ce1-ab62-88117dd2e3c6",
   "metadata": {},
   "outputs": [],
   "source": []
  },
  {
   "cell_type": "code",
   "execution_count": null,
   "id": "557b6901-570a-42ec-a2a8-de09118a7411",
   "metadata": {},
   "outputs": [],
   "source": []
  },
  {
   "cell_type": "code",
   "execution_count": null,
   "id": "42a678b6-ba49-4612-aa07-8a6684dace11",
   "metadata": {},
   "outputs": [],
   "source": []
  },
  {
   "cell_type": "code",
   "execution_count": null,
   "id": "fb103de9-7d63-485a-a4ac-4fcc9361b9ca",
   "metadata": {},
   "outputs": [],
   "source": []
  },
  {
   "cell_type": "code",
   "execution_count": null,
   "id": "7301f8e8-2713-4a98-8418-e513b237f448",
   "metadata": {},
   "outputs": [],
   "source": []
  }
 ],
 "metadata": {
  "kernelspec": {
   "display_name": "Python 3 (ipykernel)",
   "language": "python",
   "name": "python3"
  },
  "language_info": {
   "codemirror_mode": {
    "name": "ipython",
    "version": 3
   },
   "file_extension": ".py",
   "mimetype": "text/x-python",
   "name": "python",
   "nbconvert_exporter": "python",
   "pygments_lexer": "ipython3",
   "version": "3.9.13"
  }
 },
 "nbformat": 4,
 "nbformat_minor": 5
}
